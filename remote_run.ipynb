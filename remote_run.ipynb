{
 "cells": [
  {
   "cell_type": "code",
   "execution_count": 2,
   "metadata": {},
   "outputs": [
    {
     "name": "stderr",
     "output_type": "stream",
     "text": [
      "Failure while loading azureml_run_type_providers. Failed to load entrypoint azureml.scriptrun = azureml.core.script_run:ScriptRun._from_run_dto with exception (pywin32 300 (c:\\python\\lib\\site-packages), Requirement.parse('pywin32==227; sys_platform == \"win32\"'), {'docker'}).\n"
     ]
    },
    {
     "name": "stdout",
     "output_type": "stream",
     "text": [
      "Azure ML SDK Version: 1.23.0\n"
     ]
    }
   ],
   "source": [
    "import azureml.core\r\n",
    "from azureml.core import Workspace\r\n",
    "\r\n",
    "print(f\"Azure ML SDK Version: {azureml.core.VERSION}\")"
   ]
  },
  {
   "cell_type": "code",
   "execution_count": 3,
   "metadata": {},
   "outputs": [],
   "source": [
    "from azureml.core import Workspace\r\n",
    "\r\n",
    "\r\n",
    "subscription_id = 'xxxxxxxx-xxxx-xxxx-xxxx-xxxxxxxxxxxx'\r\n",
    "resource_group = 'rg-sandbox'\r\n",
    "workspace_name = 'sandboxaml'\r\n",
    "\r\n",
    "ws = Workspace(subscription_id, resource_group, workspace_name)\r\n"
   ]
  },
  {
   "cell_type": "code",
   "execution_count": 4,
   "metadata": {},
   "outputs": [
    {
     "name": "stdout",
     "output_type": "stream",
     "text": [
      "sandboxaml\twesteurope\trg-sandbox\twesteurope\n"
     ]
    }
   ],
   "source": [
    "print(ws.name, ws.location, ws.resource_group, ws.location, sep='\\t')"
   ]
  },
  {
   "cell_type": "code",
   "execution_count": 5,
   "metadata": {},
   "outputs": [
    {
     "name": "stdout",
     "output_type": "stream",
     "text": [
      "Creating...\n",
      "SucceededProvisioning operation finished, operation \"Succeeded\"\n",
      "Succeeded\n",
      "AmlCompute wait for completion finished\n",
      "\n",
      "Minimum number of nodes requested have been provisioned\n"
     ]
    }
   ],
   "source": [
    "# Compute target creation\r\n",
    "\r\n",
    "from azureml.core.compute import ComputeTarget, AmlCompute\r\n",
    "from azureml.core.compute_target import ComputeTargetException\r\n",
    "\r\n",
    "\r\n",
    "cpu_cluster_name = \"compute-cluster\"\r\n",
    "\r\n",
    "# Verify that cluster does not exist already\r\n",
    "try:\r\n",
    "    compute_target = ComputeTarget(workspace=ws, name=cpu_cluster_name)\r\n",
    "    print(\"Cluster already exists\")\r\n",
    "except ComputeTargetException:\r\n",
    "    compute_config = AmlCompute.provisioning_configuration(vm_size='STANDARD_D3_V2',\r\n",
    "                                                           min_nodes=0, max_nodes=4)\r\n",
    "    compute_target = ComputeTarget.create(ws, cpu_cluster_name, compute_config)\r\n",
    "\r\n",
    "compute_target.wait_for_completion(show_output=True, min_node_count=0, timeout_in_minutes=30)"
   ]
  },
  {
   "cell_type": "code",
   "execution_count": 6,
   "metadata": {},
   "outputs": [],
   "source": [
    "from azureml.core import Environment\r\n",
    "from azureml.core.conda_dependencies import CondaDependencies\r\n",
    "\r\n",
    "\r\n",
    "env = Environment(\"my_remote_env\")\r\n",
    "\r\n",
    "env.docker.enabled = True\r\n",
    "env.python.conda_dependencies = CondaDependencies.create(conda_packages=['scikit-learn',\r\n",
    "                                                                          'pandas',\r\n",
    "                                                                          'numpy',\r\n",
    "                                                                          'joblib',                                    \r\n",
    "                                                                          'matplotlib'\r\n",
    "                                                                         ])\r\n",
    "env.python.conda_dependencies.add_pip_package(\"inference-schema[numpy-support]\")\r\n"
   ]
  },
  {
   "cell_type": "code",
   "execution_count": 7,
   "metadata": {},
   "outputs": [
    {
     "data": {
      "text/html": "<table style=\"width:100%\"><tr><th>Name</th><th>Workspace</th><th>Report Page</th><th>Docs Page</th></tr><tr><td>my_remote_exp</td><td>sandboxaml</td><td><a href=\"https://ml.azure.com/experiments/my_remote_exp?wsid=/subscriptions/f80606e5-788f-4dc3-a9ea-2eb9a7836082/resourcegroups/rg-sandbox/workspaces/sandboxaml\" target=\"_blank\" rel=\"noopener\">Link to Azure Machine Learning studio</a></td><td><a href=\"https://docs.microsoft.com/en-us/python/api/azureml-core/azureml.core.experiment.Experiment?view=azure-ml-py\" target=\"_blank\" rel=\"noopener\">Link to Documentation</a></td></tr></table>",
      "text/plain": "Experiment(Name: my_remote_exp,\nWorkspace: sandboxaml)"
     },
     "execution_count": 7,
     "metadata": {},
     "output_type": "execute_result"
    }
   ],
   "source": [
    "experiment_name = 'my_remote_exp'\r\n",
    "\r\n",
    "from azureml.core import Experiment\r\n",
    "exp = Experiment(workspace=ws, name=experiment_name)\r\n",
    "\r\n",
    "exp"
   ]
  },
  {
   "cell_type": "code",
   "execution_count": 8,
   "metadata": {},
   "outputs": [
    {
     "name": "stdout",
     "output_type": "stream",
     "text": [
      "Writing my_python_script.py\n"
     ]
    }
   ],
   "source": [
    "%%writefile my_python_script.py\r\n",
    "\r\n",
    "from azureml.core.run import Run\r\n",
    "\r\n",
    "\r\n",
    "run = Run.get_context()\r\n",
    "exp = run.experiment\r\n",
    "ws = run.experiment.workspace\r\n",
    "\r\n",
    "print(f\"Hello wolrd, we are in the run : {run.id}\")\r\n"
   ]
  },
  {
   "cell_type": "code",
   "execution_count": 9,
   "metadata": {},
   "outputs": [],
   "source": [
    "from azureml.core import ScriptRunConfig\r\n",
    "from azureml.core.runconfig import DEFAULT_CPU_IMAGE\r\n",
    "\r\n",
    "\r\n",
    "project_folder = '.'\r\n",
    "\r\n",
    "# 1. Python file\r\n",
    "src = ScriptRunConfig(source_directory=project_folder, script='my_python_script.py')\r\n",
    "\r\n",
    "# 2. Set compute target to the one created in previous step\r\n",
    "src.run_config.target = compute_target.name\r\n",
    "\r\n",
    "# 3. Set python environment\r\n",
    "src.run_config.environment = env\r\n",
    "\r\n",
    "# 4. Some tags for the run\r\n",
    "runtags= {\"Type\": \"test\" , \r\n",
    "          \"Langage\" : \"Python\" , \r\n",
    "          \"Framework\" : \"Scikit-Learn\", \r\n",
    "          \"Team\" : \"MVP\"}"
   ]
  },
  {
   "cell_type": "code",
   "execution_count": 10,
   "metadata": {},
   "outputs": [
    {
     "name": "stderr",
     "output_type": "stream",
     "text": [
      "Submitting C:\\Users\\Paul PETON\\AppData\\Local\\Programs\\Microsoft VS Code Insiders directory for run. The size of the directory >= 25 MB, so it can take a few minutes.\n"
     ]
    },
    {
     "data": {
      "text/html": "<table style=\"width:100%\"><tr><th>Experiment</th><th>Id</th><th>Type</th><th>Status</th><th>Details Page</th><th>Docs Page</th></tr><tr><td>my_remote_exp</td><td>my_remote_exp_1618088952_486cfc40</td><td>azureml.scriptrun</td><td>Preparing</td><td><a href=\"https://ml.azure.com/experiments/my_remote_exp/runs/my_remote_exp_1618088952_486cfc40?wsid=/subscriptions/f80606e5-788f-4dc3-a9ea-2eb9a7836082/resourcegroups/rg-sandbox/workspaces/sandboxaml\" target=\"_blank\" rel=\"noopener\">Link to Azure Machine Learning studio</a></td><td><a href=\"https://docs.microsoft.com/en-us/python/api/azureml-core/azureml.core.script_run.ScriptRun?view=azure-ml-py\" target=\"_blank\" rel=\"noopener\">Link to Documentation</a></td></tr></table>",
      "text/plain": "Run(Experiment: my_remote_exp,\nId: my_remote_exp_1618088952_486cfc40,\nType: azureml.scriptrun,\nStatus: Preparing)"
     },
     "execution_count": 10,
     "metadata": {},
     "output_type": "execute_result"
    }
   ],
   "source": [
    "run = exp.submit(config=src, tags=runtags)\r\n",
    "run"
   ]
  },
  {
   "cell_type": "code",
   "execution_count": 11,
   "metadata": {},
   "outputs": [
    {
     "name": "stdout",
     "output_type": "stream",
     "text": [
      "Status = Preparing\n"
     ]
    }
   ],
   "source": [
    "print(\"Status =\", run.get_status())"
   ]
  },
  {
   "cell_type": "code",
   "execution_count": 12,
   "metadata": {},
   "outputs": [
    {
     "data": {
      "text/plain": "{'runId': 'my_remote_exp_1618088952_486cfc40',\n 'target': 'compute-cluster',\n 'status': 'Preparing',\n 'properties': {'_azureml.ComputeTargetType': 'amlcompute',\n  'ContentSnapshotId': '1ca55bf1-920c-42f2-8efb-e47c45b8b8ce'},\n 'inputDatasets': [],\n 'outputDatasets': [],\n 'runDefinition': {'script': 'my_python_script.py',\n  'command': '',\n  'useAbsolutePath': False,\n  'arguments': [],\n  'sourceDirectoryDataStore': None,\n  'framework': 'Python',\n  'communicator': 'None',\n  'target': 'compute-cluster',\n  'dataReferences': {},\n  'data': {},\n  'outputData': {},\n  'jobName': None,\n  'maxRunDurationSeconds': 2592000,\n  'nodeCount': 1,\n  'priority': None,\n  'credentialPassthrough': False,\n  'identity': None,\n  'environment': {'name': 'my_remote_env',\n   'version': 'Autosave_2021-04-10T21:10:53Z_b8e44504',\n   'python': {'interpreterPath': 'python',\n    'userManagedDependencies': False,\n    'condaDependencies': {'channels': ['anaconda', 'conda-forge'],\n     'dependencies': ['python=3.6.2',\n      {'pip': ['azureml-defaults~=1.23.0', 'inference-schema[numpy-support]']},\n      'scikit-learn',\n      'pandas',\n      'numpy',\n      'joblib',\n      'matplotlib'],\n     'name': 'azureml_154d1b2aea025d73a375f64ac91d5992'},\n    'baseCondaEnvironment': None},\n   'environmentVariables': {'EXAMPLE_ENV_VAR': 'EXAMPLE_VALUE'},\n   'docker': {'baseImage': 'mcr.microsoft.com/azureml/intelmpi2018.3-ubuntu16.04:20210129.v1',\n    'platform': {'os': 'Linux', 'architecture': 'amd64'},\n    'baseDockerfile': None,\n    'baseImageRegistry': {'address': None, 'username': None, 'password': None},\n    'enabled': True,\n    'arguments': []},\n   'spark': {'repositories': [], 'packages': [], 'precachePackages': True},\n   'inferencingStackVersion': None},\n  'history': {'outputCollection': True,\n   'directoriesToWatch': ['logs'],\n   'enableMLflowTracking': True,\n   'snapshotProject': True},\n  'spark': {'configuration': {'spark.app.name': 'Azure ML Experiment',\n    'spark.yarn.maxAppAttempts': '1'}},\n  'parallelTask': {'maxRetriesPerWorker': 0,\n   'workerCountPerNode': 1,\n   'terminalExitCodes': None,\n   'configuration': {}},\n  'amlCompute': {'name': None,\n   'vmSize': None,\n   'retainCluster': False,\n   'clusterMaxNodeCount': None},\n  'aiSuperComputer': {'instanceType': None,\n   'imageVersion': None,\n   'location': None,\n   'aiSuperComputerStorageData': None,\n   'interactive': False,\n   'scalePolicy': None,\n   'virtualClusterArmId': None,\n   'tensorboardLogDirectory': None},\n  'tensorflow': {'workerCount': 1, 'parameterServerCount': 1},\n  'mpi': {'processCountPerNode': 1},\n  'pyTorch': {'communicationBackend': 'nccl', 'processCount': None},\n  'hdi': {'yarnDeployMode': 'Cluster'},\n  'containerInstance': {'region': None, 'cpuCores': 2.0, 'memoryGb': 3.5},\n  'exposedPorts': None,\n  'docker': {'useDocker': True,\n   'sharedVolumes': True,\n   'shmSize': '2g',\n   'arguments': []},\n  'cmk8sCompute': {'configuration': {}},\n  'commandReturnCodeConfig': {'returnCode': 'Zero',\n   'successfulReturnCodes': []},\n  'environmentVariables': {}},\n 'logFiles': {},\n 'submittedBy': 'Paul PETON'}"
     },
     "execution_count": 12,
     "metadata": {},
     "output_type": "execute_result"
    }
   ],
   "source": [
    "run.get_details()"
   ]
  },
  {
   "cell_type": "code",
   "execution_count": null,
   "metadata": {},
   "outputs": [],
   "source": []
  }
 ],
 "metadata": {
  "kernelspec": {
   "display_name": "Python 3.7.9 64-bit",
   "name": "python379jvsc74a57bd038740d3277777e2cd7c6c2cc9d8addf5118fdf3f82b1b39231fd12aeac8aee8b"
  },
  "language_info": {
   "codemirror_mode": {
    "name": "ipython",
    "version": 3
   },
   "file_extension": ".py",
   "mimetype": "text/x-python",
   "name": "python",
   "nbconvert_exporter": "python",
   "pygments_lexer": "ipython3",
   "version": "3.7.9"
  },
  "orig_nbformat": 2
 },
 "nbformat": 4,
 "nbformat_minor": 2
}
